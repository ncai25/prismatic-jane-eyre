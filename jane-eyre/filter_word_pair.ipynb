{
 "cells": [
  {
   "cell_type": "code",
   "execution_count": 1,
   "id": "a0c52ced",
   "metadata": {},
   "outputs": [],
   "source": [
    "import spacy\n",
    "import json\n",
    "from spacy.lang.en import STOP_WORDS as en_stop_words\n",
    "from spacy.lang.fr import STOP_WORDS as fr_stop_words\n",
    "from nltk.corpus import stopwords\n",
    "\n",
    "en_stop_nltk = set(stopwords.words('english'))\n",
    "en_stops = set(en_stop_words)\n",
    "en_stops.update(en_stop_nltk)\n",
    "\n",
    "fr_stops_nltk = set(stopwords.words('french'))\n",
    "fr_stops = set(fr_stop_words)\n",
    "fr_stops.update(fr_stops_nltk)"
   ]
  },
  {
   "cell_type": "code",
   "execution_count": 12,
   "id": "26fac9e6",
   "metadata": {},
   "outputs": [],
   "source": [
    "en_stops.update([\n",
    "    \"chapter\",\n",
    "    'i', 'ii', 'iii', 'iv', 'v', 'vi', 'vii', 'viii', 'ix', 'x',\n",
    "    'xi', 'xii', 'xiii', 'xiv', 'xv', 'xvi', 'xvii', 'xviii', 'xix', 'xx',\n",
    "    'xxi', 'xxii', 'xxiii', 'xxiv', 'xxv', 'xxvi', 'xxvii', 'xxviii', 'xxix', 'xxx',\n",
    "    'xxxi', 'xxxii', 'xxxiii', 'xxxiv', 'xxxv', 'xxxvi', 'xxxvii', 'xxxviii'\n",
    "    ])"
   ]
  },
  {
   "cell_type": "code",
   "execution_count": 6,
   "id": "c9a2119d",
   "metadata": {},
   "outputs": [],
   "source": [
    "fr_stops.update([\n",
    "    # Contractions with j'\n",
    "    \"j'ai\", \"j'avais\", \"j'aurai\", \"j'aurais\", \"j'étais\", \"j’aie\", \"j’en\", \"j’y\",\n",
    "    \"j’ai\", \"j’avais\", \"j’aurai\", \"j’aurais\", \"j’étais\", \"j’aie\", \"j’en\", \"j’y\",\n",
    "\n",
    "    # Contractions with c'\n",
    "    \"c'est\", \"c'était\", \"c’étaient\", \"c’est-à-dire\",\n",
    "    \"c’est\", \"c’était\", \"c’étaient\", \"c’est-à-dire\",\n",
    "\n",
    "    # Contractions with d'\n",
    "    \"d'être\", \"d'avoir\", \"d'un\", \"d'une\", \"d’autres\", \"d’ici\", \"d’accord\",\n",
    "    \"d’être\", \"d’avoir\", \"d’un\", \"d’une\", \"d’autres\", \"d’ici\", \"d’accord\",\n",
    "\n",
    "    # Contractions with l'\n",
    "    \"l'ai\", \"l'avais\", \"l'on\", \"l'un\", \"l'une\", \"l'autre\", \"l’était\", \"l’avait\",\n",
    "    \"l’ai\", \"l’avais\", \"l’on\", \"l’un\", \"l’une\", \"l’autre\", \"l’était\", \"l’avait\",\n",
    "\n",
    "    # Contractions with m'\n",
    "    \"m'a\", \"m'avait\", \"m'as\", \"m’en\", \"m’y\",\n",
    "    \"m’a\", \"m’avait\", \"m’as\", \"m’en\", \"m’y\",\n",
    "\n",
    "    # Contractions with n'\n",
    "    \"n'ai\", \"n'a\", \"n'avait\", \"n'est\", \"n'était\", \"n’en\", \"n’y\",\n",
    "    \"n’ai\", \"n’a\", \"n’avait\", \"n’est\", \"n’était\", \"n’en\", \"n’y\",\n",
    "\n",
    "    # Contractions with s'\n",
    "    \"s'est\", \"s'était\", \"s'en\", \"s’y\",\n",
    "    \"s’est\", \"s’était\", \"s’en\", \"s’y\",\n",
    "\n",
    "    # Contractions with t'\n",
    "    \"t'ai\", \"t'as\", \"t'a\", \"t’en\", \"t’y\",\n",
    "    \"t’ai\", \"t’as\", \"t’a\", \"t’en\", \"t’y\",\n",
    "\n",
    "    # Contractions with qu'\n",
    "    \"qu'il\", \"qu'elle\", \"qu'on\", \"qu'un\", \"qu'une\", \"qu’ils\", \"qu’elles\", \"qu’y\", \"qu’en\", \"qu’est-ce\",\n",
    "    \"qu’il\", \"qu’elle\", \"qu’on\", \"qu’un\", \"qu’une\", \"qu’ils\", \"qu’elles\", \"qu’y\", \"qu’en\", \"qu'est-ce\", \n",
    "\n",
    "    # Misc compound or pronoun forms\n",
    "    \"peut-être\", \"vis-à-vis\", \"c'est-à-dire\", \"au-dessus\", \"au-dessous\",\n",
    "    \"quelqu'un\", \"quelqu’une\", \"quelqu’un\", \"quelqu’une\",\n",
    "    \"chacun\", \"chacune\", \"aucun\", \"aucune\", \"nul\", \"nulle\",\n",
    "\n",
    "    # Verb forms (être, avoir)\n",
    "    \"suis\", \"es\", \"est\", \"sommes\", \"êtes\", \"sont\",\n",
    "    \"étais\", \"était\", \"étions\", \"étiez\", \"étaient\",\n",
    "    \"ai\", \"as\", \"a\", \"avons\", \"avez\", \"ont\",\n",
    "\n",
    "    # Pronouns and determiners\n",
    "    \"celui-ci\", \"celui-là\", \"celle-ci\", \"celle-là\",\n",
    "    \"ceux-ci\", \"ceux-là\", \"celles-ci\", \"celles-là\",\n",
    "\n",
    "    # Other\n",
    "    \"-NULL-\", \"-UNK-\"\n",
    "])"
   ]
  },
  {
   "cell_type": "code",
   "execution_count": 13,
   "id": "31160c3d",
   "metadata": {},
   "outputs": [
    {
     "name": "stdout",
     "output_type": "stream",
     "text": [
      "Total English words after filtering: 7262\n"
     ]
    }
   ],
   "source": [
    "with open('word_pairs/IBM2/word_pairs_epoch_15.json', 'r') as f:\n",
    "    word_pairs = json.load(f)\n",
    "\n",
    "    filtered_pairs = {}\n",
    "\n",
    "    for en_word, stats in word_pairs.items():\n",
    "\n",
    "        if en_word.lower() in en_stops:\n",
    "            continue\n",
    "\n",
    "        filtered_translations = {}\n",
    "        for fr_word, fr_stats in stats['french_translations'].items():\n",
    "            if (fr_word.lower() not in fr_stops) and (fr_stats.get(\"total_count\", 0) > 1):\n",
    "                filtered_translations[fr_word] = fr_stats\n",
    "        if filtered_translations:\n",
    "            filtered_pairs[en_word] = {\n",
    "                'total_translation_count': len(filtered_translations),\n",
    "                'french_translations': filtered_translations\n",
    "                }\n",
    "    total_en_after = len(filtered_pairs)\n",
    "    print(f\"Total English words after filtering: {total_en_after}\")\n",
    "\n",
    "with open('word_pairs_filtered.json', 'w') as f:\n",
    "    json.dump(filtered_pairs, f, indent=2, ensure_ascii=False)\n"
   ]
  }
 ],
 "metadata": {
  "kernelspec": {
   "display_name": "jane-eyre",
   "language": "python",
   "name": "python3"
  },
  "language_info": {
   "codemirror_mode": {
    "name": "ipython",
    "version": 3
   },
   "file_extension": ".py",
   "mimetype": "text/x-python",
   "name": "python",
   "nbconvert_exporter": "python",
   "pygments_lexer": "ipython3",
   "version": "3.13.5"
  }
 },
 "nbformat": 4,
 "nbformat_minor": 5
}
