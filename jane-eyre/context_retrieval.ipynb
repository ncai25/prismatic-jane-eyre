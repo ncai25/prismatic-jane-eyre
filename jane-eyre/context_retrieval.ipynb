{
 "cells": [
  {
   "cell_type": "code",
   "execution_count": 2,
   "id": "1644b641",
   "metadata": {},
   "outputs": [],
   "source": [
    "import linecache\n",
    "\n",
    "def get_sentence_pair_fast(sentence_index):\n",
    "    # linecache uses 1-based indexing\n",
    "    french = linecache.getline('french/Fr_1966_Monod_aligned-t',\n",
    "sentence_index + 1).strip()\n",
    "    english = linecache.getline('french/Fr_1966_Monod_aligned-s',\n",
    "sentence_index + 1).strip()\n",
    "    return french, english"
   ]
  },
  {
   "cell_type": "code",
   "execution_count": 3,
   "id": "6f168ee0",
   "metadata": {},
   "outputs": [
    {
     "name": "stdout",
     "output_type": "stream",
     "text": [
      "('Monsieur, j’ai été trop franche.', 'Sir, I was too plain; I beg your pardon.')\n"
     ]
    }
   ],
   "source": [
    "print(get_sentence_pair_fast(2115))"
   ]
  },
  {
   "cell_type": "code",
   "execution_count": 6,
   "id": "018cf919",
   "metadata": {},
   "outputs": [],
   "source": [
    "def get_words_with_context(path, sent_idx, word_pos, window):\n",
    "    # Collect words from multiple sentences\n",
    "    all_words = []\n",
    "    sentence_boundaries = []  # Track where sentences start\n",
    "\n",
    "    if sent_idx > 0 and word_pos < window:\n",
    "        prev = linecache.getline(path, sent_idx).strip().split()\n",
    "        all_words.extend(prev)\n",
    "        sentence_boundaries.append(len(prev))\n",
    "\n",
    "    curr = linecache.getline(path, sent_idx + 1).strip().split()\n",
    "    sentence_start = len(all_words)\n",
    "    all_words.extend(curr)\n",
    "\n",
    "    if word_pos + window >= len(curr):\n",
    "        next_sent = linecache.getline(path, sent_idx + 2).strip().split()\n",
    "        all_words.extend(next_sent)\n",
    "\n",
    "    actual_pos = sentence_start + word_pos\n",
    "\n",
    "    start = max(0, actual_pos - window)\n",
    "    end = min(len(all_words), actual_pos + window + 1)\n",
    "\n",
    "    return ' '.join(all_words[start:end])\n",
    "\n",
    "def get_bilateral_context(french_path, english_path, sent_index, french_pos, english_pos, window=20):\n",
    "    fr_contex = get_words_with_context(french_path, sent_index, french_pos, window)\n",
    "    en_context = get_words_with_context(english_path, sent_index, english_pos, window)\n",
    "\n",
    "    return( {\n",
    "        'french_context': fr_contex,\n",
    "        'english_context': en_context,\n",
    "    })"
   ]
  },
  {
   "cell_type": "code",
   "execution_count": 7,
   "id": "1b1ffbef",
   "metadata": {},
   "outputs": [
    {
     "data": {
      "text/plain": [
       "{'french_context': 'toutes prêtes à s’animer. Je ne saurais définir avec précision l’objet de leur attente, mais c’était un objet plaisant, non point peut-être pour le jour même, ni pour le mois suivant, mais pour un moment indéterminé de l’avenir. Je me levai;',\n",
       " 'english_context': 'day or that month, but at an indefinite future period. I rose; I dressed myself with care: obliged to be plain--for I had no article of attire that was not made with extreme simplicity--I was still by nature solicitous to be'}"
      ]
     },
     "execution_count": 7,
     "metadata": {},
     "output_type": "execute_result"
    }
   ],
   "source": [
    "get_bilateral_context('french/fr_combined_aligned.f', 'french/fr_combined_aligned.e', 1496, 16, 10)"
   ]
  }
 ],
 "metadata": {
  "kernelspec": {
   "display_name": "jane-eyre",
   "language": "python",
   "name": "python3"
  },
  "language_info": {
   "codemirror_mode": {
    "name": "ipython",
    "version": 3
   },
   "file_extension": ".py",
   "mimetype": "text/x-python",
   "name": "python",
   "nbconvert_exporter": "python",
   "pygments_lexer": "ipython3",
   "version": "3.13.5"
  }
 },
 "nbformat": 4,
 "nbformat_minor": 5
}
