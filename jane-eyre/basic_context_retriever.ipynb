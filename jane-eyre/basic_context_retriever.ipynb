{
 "cells": [
  {
   "cell_type": "code",
   "execution_count": 6,
   "id": "e223268f",
   "metadata": {},
   "outputs": [
    {
     "name": "stdout",
     "output_type": "stream",
     "text": [
      "/Users/noracai/Documents/_coding_projects/IBM-Models\n"
     ]
    }
   ],
   "source": [
    "import json\n",
    "import os\n",
    "from collections import defaultdict\n",
    "\n",
    "os.chdir(\"/Users/noracai/Documents/_coding_projects/IBM-Models\")\n",
    "print(os.getcwd())"
   ]
  },
  {
   "cell_type": "code",
   "execution_count": null,
   "id": "d6c3edae",
   "metadata": {},
   "outputs": [],
   "source": [
    "def find_best_prediction(model_dir):\n",
    "    \"\"\"Find the prediction file with the best AER score.\"\"\"\n",
    "    # Read AER file\n",
    "    aer_file = os.path.join(model_dir, 'AERs')\n",
    "    with open(aer_file, 'r') as f:\n",
    "        aer_scores = [float(line.strip()) for line in f.readlines()]\n",
    "    \n",
    "    # Find the best (lowest) AER score\n",
    "    best_epoch = aer_scores.index(min(aer_scores)) + 1\n",
    "    best_aer = min(aer_scores)\n",
    "    \n",
    "    return f\"prediction-{best_epoch}\", best_aer\n"
   ]
  },
  {
   "cell_type": "code",
   "execution_count": 8,
   "id": "7e31eb34",
   "metadata": {},
   "outputs": [
    {
     "name": "stdout",
     "output_type": "stream",
     "text": [
      "prediction-5 0.23988439306358378\n"
     ]
    }
   ],
   "source": [
    "model_dir = 'prediction/validation/IBM2/uniform-init'\n",
    "best_prediction, best_aer = find_best_prediction(model_dir)\n",
    "\n",
    "print(best_prediction, best_aer)"
   ]
  },
  {
   "cell_type": "code",
   "execution_count": 9,
   "id": "cf25b924",
   "metadata": {},
   "outputs": [],
   "source": [
    "def load_sentences(file_path):\n",
    "    \"\"\"Load sentences from a text file.\"\"\"\n",
    "    sentences = []\n",
    "    with open(file_path, 'r', encoding='utf-8') as f:\n",
    "        for line in f:\n",
    "            sent = line.strip().split()\n",
    "            sentences.append(sent)\n",
    "    return sentences\n"
   ]
  },
  {
   "cell_type": "code",
   "execution_count": 10,
   "id": "d878fcbb",
   "metadata": {},
   "outputs": [],
   "source": [
    "english_file = 'jane-eyre/Fr_all.e'\n",
    "french_file = 'jane-eyre/Fr_all.f'\n",
    "english_sentences = load_sentences(english_file)\n",
    "french_sentences = load_sentences(french_file)"
   ]
  },
  {
   "cell_type": "code",
   "execution_count": 12,
   "id": "d8527f6a",
   "metadata": {},
   "outputs": [
    {
     "name": "stdout",
     "output_type": "stream",
     "text": [
      "[['CHAPTER', 'I', 'There', 'was', 'no', 'possibility', 'of', 'taking', 'a', 'walk', 'that', 'day.'], ['We', 'had', 'been', 'wandering,', 'indeed,', 'in', 'the', 'leafless', 'shrubbery', 'an', 'hour', 'in', 'the', 'morning;', 'but', 'since', 'dinner', 'the', 'cold', 'winter', 'wind', 'had', 'brought', 'with', 'it', 'clouds', 'so', 'sombre,', 'and', 'a', 'rain', 'so', 'penetrating,', 'that', 'further', 'out-door', 'exercise', 'was', 'now', 'out', 'of', 'the', 'question.'], ['I', 'was', 'glad', 'of', 'it:', 'I', 'never', 'liked', 'long', 'walks,', 'especially', 'on', 'chilly', 'afternoons:', 'dreadful', 'to', 'me', 'was', 'the', 'coming', 'home', 'in', 'the', 'raw', 'twilight,', 'with', 'nipped', 'fingers', 'and', 'toes,', 'and', 'a', 'heart', 'saddened', 'by', 'the', 'chidings', 'of', 'Bessie,', 'the', 'nurse,', 'and', 'humbled', 'by', 'the', 'consciousness', 'of', 'my', 'physical', 'inferiority', 'to', 'Eliza,', 'John,', 'and', 'Georgiana', 'Reed.'], ['The', 'said', 'Eliza,', 'John,', 'and', 'Georgiana', 'were', 'now', 'clustered', 'round', 'their', 'mama', 'in', 'the', 'drawing-room:', 'she', 'lay', 'reclined', 'on', 'a', 'sofa', 'by', 'the', 'fireside,', 'and', 'with', 'her', 'darlings', 'about', 'her', 'looked', 'perfectly', 'happy.'], ['Me,', 'she', 'had', 'dispensed', 'from', 'joining', 'the', 'group;', 'saying,', 'She', 'regretted', 'to', 'be', 'under', 'the', 'necessity', 'of', 'keeping', 'me', 'at', 'a', 'distance;', 'but', 'that', 'until', 'she', 'heard', 'from', 'Bessie,', 'and', 'could', 'discover', 'by', 'her', 'own', 'observation,', 'that', 'I', 'was', 'endeavouring', 'in', 'good', 'earnest', 'to', 'acquire', 'a', 'more', 'sociable', 'and', 'childlike', 'disposition,', 'a', 'more', 'attractive', 'and', 'sprightly', 'manner--something', 'lighter,', 'franker,', 'more', 'natural,', 'as', 'it', 'were--she', 'really', 'must', 'exclude', 'me', 'from', 'privileges', 'intended', 'only', 'for', 'contented,', 'happy,', 'little', 'children.'], ['What', 'does', 'Bessie', 'say', 'I', 'have', 'done?'], ['I', 'asked.'], ['Jane,', 'I', \"don't\", 'like', 'cavillers', 'or', 'questioners;', 'besides,', 'there', 'is', 'something', 'truly', 'forbidding', 'in', 'a', 'child', 'taking', 'up', 'her', 'elders', 'in', 'that', 'manner.'], ['Be', 'seated', 'somewhere;', 'and', 'until', 'you', 'can', 'speak', 'pleasantly,', 'remain', 'silent.'], ['A', 'breakfast-room', 'adjoined', 'the', 'drawing-room,', 'I', 'slipped', 'in', 'there.'], ['It', 'contained', 'a', 'bookcase:', 'I', 'soon', 'possessed', 'myself', 'of', 'a', 'volume,', 'taking', 'care', 'that', 'it', 'should', 'be', 'one', 'stored', 'with', 'pictures.'], ['I', 'mounted', 'into', 'the', 'window', 'seat:', 'gathering', 'up', 'my', 'feet,', 'I', 'sat', 'cross-legged,', 'like', 'a', 'Turk;', 'and,', 'having', 'drawn', 'the', 'red', 'moreen', 'curtain', 'nearly', 'close,', 'I', 'was', 'shrined', 'in', 'double', 'retirement.'], ['Folds', 'of', 'scarlet', 'drapery', 'shut', 'in', 'my', 'view', 'to', 'the', 'right', 'hand;', 'to', 'the', 'left', 'were', 'the', 'clear', 'panes', 'of', 'glass,', 'protecting,', 'but', 'not', 'separating', 'me', 'from', 'the', 'drear', 'November', 'day.'], ['At', 'intervals,', 'while', 'turning', 'over', 'the', 'leaves', 'of', 'my', 'book,', 'I', 'studied', 'the', 'aspect', 'of', 'that', 'winter', 'afternoon.'], ['Afar,', 'it', 'offered', 'a', 'pale', 'blank', 'of', 'mist', 'and', 'cloud;', 'near', 'a', 'scene', 'of', 'wet', 'lawn', 'and', 'storm-beat', 'shrub,', 'with', 'ceaseless', 'rain', 'sweeping', 'away', 'wildly', 'before', 'a', 'long', 'and', 'lamentable', 'blast.', 'I', 'returned', 'to', 'my', \"book--Bewick's\", 'History', 'of', 'British', 'Birds:', 'the', 'letterpress', 'thereof', 'I', 'cared', 'little', 'for,', 'generally', 'speaking;', 'and', 'yet', 'there', 'were', 'certain', 'introductory', 'pages', 'that,', 'child', 'as', 'I', 'was,', 'I', 'could', 'not', 'pass', 'quite', 'as', 'a', 'blank.'], ['They', 'were', 'those', 'which', 'treat', 'of', 'the', 'haunts', 'of', 'sea-fowl;', 'of', 'the', 'solitary', 'rocks', 'and', 'promontories', 'by', 'them', 'only', 'inhabited;', 'of', 'the', 'coast', 'of', 'Norway,', 'studded', 'with', 'isles', 'from', 'its', 'southern', 'extremity,', 'the', 'Lindeness,', 'or', 'Naze,', 'to', 'the', 'North', 'Cape', 'Where', 'the', 'Northern', 'Ocean,', 'in', 'vast', 'whirls,', 'Boils', 'round', 'the', 'naked,', 'melancholy', 'isles', 'Of', 'farthest', 'Thule;', 'and', 'the', 'Atlantic', 'surge', 'Pours', 'in', 'among', 'the', 'stormy', 'Hebrides.', 'Nor', 'could', 'I', 'pass', 'unnoticed', 'the', 'suggestion', 'of', 'the', 'bleak', 'shores', 'of', 'Lapland,', 'Siberia,', 'Spitzbergen,', 'Nova', 'Zembla,', 'Iceland,', 'Greenland,', 'with', 'the', 'vast', 'sweep', 'of', 'the', 'Arctic', 'Zone,', 'and', 'those', 'forlorn', 'regions', 'of', 'dreary', 'space,--that', 'reservoir', 'of', 'frost', 'and', 'snow,', 'where', 'firm', 'fields', 'of', 'ice,', 'the', 'accumulation', 'of', 'centuries', 'of', 'winters,', 'glazed', 'in', 'Alpine', 'heights', 'above', 'heights,', 'surround', 'the', 'pole,', 'and', 'concentre', 'the', 'multiplied', 'rigours', 'of', 'extreme', 'cold.'], ['Of', 'these', 'death-white', 'realms', 'I', 'formed', 'an', 'idea', 'of', 'my', 'own:', 'shadowy,', 'like', 'all', 'the', 'half-comprehended', 'notions', 'that', 'float', 'dim', 'through', \"children's\", 'brains,', 'but', 'strangely', 'impressive.'], ['The', 'words', 'in', 'these', 'introductory', 'pages', 'connected', 'themselves', 'with', 'the', 'succeeding', 'vignettes,', 'and', 'gave', 'significance', 'to', 'the', 'rock', 'standing', 'up', 'alone', 'in', 'a', 'sea', 'of', 'billow', 'and', 'spray;', 'to', 'the', 'broken', 'boat', 'stranded', 'on', 'a', 'desolate', 'coast;', 'to', 'the', 'cold', 'and', 'ghastly', 'moon', 'glancing', 'through', 'bars', 'of', 'cloud', 'at', 'a', 'wreck', 'just', 'sinking.'], ['I', 'cannot', 'tell', 'what', 'sentiment', 'haunted', 'the', 'quite', 'solitary', 'churchyard,', 'with', 'its', 'inscribed', 'headstone;', 'its', 'gate,', 'its', 'two', 'trees,', 'its', 'low', 'horizon,', 'girdled', 'by', 'a', 'broken', 'wall,', 'and', 'its', 'newly-risen', 'crescent,', 'attesting', 'the', 'hour', 'of', 'eventide.', 'The', 'two', 'ships', 'becalmed', 'on', 'a', 'torpid', 'sea,', 'I', 'believed', 'to', 'be', 'marine', 'phantoms.', 'The', 'fiend', 'pinning', 'down', 'the', \"thief's\", 'pack', 'behind', 'him,', 'I', 'passed', 'over', 'quickly:', 'it', 'was', 'an', 'object', 'of', 'terror.', 'So', 'was', 'the', 'black', 'horned', 'thing', 'seated', 'aloof', 'on', 'a', 'rock,', 'surveying', 'a', 'distant', 'crowd', 'surrounding', 'a', 'gallows.', 'Each', 'picture', 'told', 'a', 'story;', 'mysterious', 'often', 'to', 'my', 'undeveloped', 'understanding', 'and', 'imperfect', 'feelings,', 'yet', 'ever', 'profoundly', 'interesting:', 'as', 'interesting', 'as', 'the', 'tales', 'Bessie', 'sometimes', 'narrated', 'on', 'winter', 'evenings,', 'when', 'she', 'chanced', 'to', 'be', 'in', 'good', 'humour;', 'and', 'when,', 'having', 'brought', 'her', 'ironing-table', 'to', 'the', 'nursery', 'hearth,', 'she', 'allowed', 'us', 'to', 'sit', 'about', 'it,', 'and', 'while', 'she', 'got', 'up', 'Mrs.', \"Reed's\", 'lace', 'frills,', 'and', 'crimped', 'her', 'nightcap', 'borders,', 'fed', 'our', 'eager', 'attention', 'with', 'passages', 'of', 'love', 'and', 'adventure', 'taken', 'from', 'old', 'fairy', 'tales', 'and', 'other', 'ballads;', 'or', 'from', 'the', 'pages', 'of', 'Pamela,', 'and', 'Henry,', 'Earl', 'of', 'Moreland.'], ['With', 'Bewick', 'on', 'my', 'knee,', 'I', 'was', 'then', 'happy:', 'happy', 'at', 'least', 'in', 'my', 'way.', 'I', 'feared', 'nothing', 'but', 'interruption,', 'and', 'that', 'came', 'too', 'soon.'], ['The', 'breakfast', 'room', 'door', 'opened.', 'Boh!', 'Madam', 'Mope!'], ['cried', 'the', 'voice', 'of', 'John', 'Reed;', 'then', 'he', 'paused:', 'he', 'found', 'the', 'room', 'apparently', 'empty.'], ['Where', 'the', 'dickens', 'is', 'she!', 'he', 'continued.', 'Lizzy!', 'Georgy!'], ['Joan', 'is', 'not', 'here:', 'tell', 'mama', 'she', 'is', 'run', 'out', 'into', 'the', 'rain--bad', 'animal!'], ['It', 'is', 'well', 'I', 'drew', 'the', 'curtain,', 'thought', 'I;', 'and', 'I', 'wished', 'fervently', 'he', 'might', 'not', 'discover', 'my', 'hiding-place:', 'nor', 'would', 'John', 'Reed', 'have', 'found', 'it', 'out', 'himself;', 'he', 'was', 'not', 'quick', 'either', 'of', 'vision', 'or', 'conception;', 'but', 'Eliza', 'just', 'put', 'her', 'head', 'in', 'at', 'the', 'door,', 'and', 'said', 'at', 'once', 'She', 'is', 'in', 'the', 'window-seat,', 'to', 'be', 'sure,', 'Jack.'], ['And', 'I', 'came', 'out', 'immediately,', 'for', 'I', 'trembled', 'at', 'the', 'idea', 'of', 'being', 'dragged', 'forth', 'by', 'the', 'said', 'Jack.'], ['What', 'do', 'you', 'want?'], ['I', 'asked,', 'with', 'awkward', 'diffidence.'], ['Say,', \"'What\", 'do', 'you', 'want,', 'Master', \"Reed?'\", 'was', 'the', 'answer.'], ['I', 'want', 'you', 'to', 'come', 'here;', 'and', 'seating', 'himself', 'in', 'an', 'arm-chair,', 'he', 'intimated', 'by', 'a', 'gesture', 'that', 'I', 'was', 'to', 'approach', 'and', 'stand', 'before', 'him.', 'John', 'Reed', 'was', 'a', 'schoolboy', 'of', 'fourteen', 'years', 'old;', 'four', 'years', 'older', 'than', 'I,', 'for', 'I', 'was', 'but', 'ten:', 'large', 'and', 'stout', 'for', 'his', 'age,', 'with', 'a', 'dingy', 'and', 'unwholesome', 'skin;', 'thick', 'lineaments', 'in', 'a', 'spacious', 'visage,', 'heavy', 'limbs', 'and', 'large', 'extremities.', 'He', 'gorged', 'himself', 'habitually', 'at', 'table,', 'which', 'made', 'him', 'bilious,', 'and', 'gave', 'him', 'a', 'dim', 'and', 'bleared', 'eye', 'and', 'flabby', 'cheeks.', 'He', 'ought', 'now', 'to', 'have', 'been', 'at', 'school;', 'but', 'his', 'mama', 'had', 'taken', 'him', 'home', 'for', 'a', 'month', 'or', 'two,', 'on', 'account', 'of', 'his', 'delicate', 'health.', 'Mr.', 'Miles,', 'the', 'master,', 'affirmed', 'that', 'he', 'would', 'do', 'very', 'well', 'if', 'he', 'had', 'fewer', 'cakes', 'and', 'sweetmeats', 'sent', 'him', 'from', 'home;', 'but', 'the', \"mother's\", 'heart', 'turned', 'from', 'an', 'opinion', 'so', 'harsh,', 'and', 'inclined', 'rather', 'to', 'the', 'more', 'refined', 'idea', 'that', \"John's\", 'sallowness', 'was', 'owing', 'to', 'over-application', 'and,', 'perhaps,', 'to', 'pining', 'after', 'home.'], ['John', 'had', 'not', 'much', 'affection', 'for', 'his', 'mother', 'and', 'sisters,', 'and', 'an', 'antipathy', 'to', 'me.'], ['He', 'bullied', 'and', 'punished', 'me;', 'not', 'two', 'or', 'three', 'times', 'in', 'the', 'week,', 'nor', 'once', 'or', 'twice', 'in', 'the', 'day,', 'but', 'continually:', 'every', 'nerve', 'I', 'had', 'feared', 'him,', 'and', 'every', 'morsel', 'of', 'flesh', 'in', 'my', 'bones', 'shrank', 'when', 'he', 'came', 'near.'], ['There', 'were', 'moments', 'when', 'I', 'was', 'bewildered', 'by', 'the', 'terror', 'he', 'inspired,', 'because', 'I', 'had', 'no', 'appeal', 'whatever', 'against', 'either', 'his', 'menaces', 'or', 'his', 'inflictions;', 'the', 'servants', 'did', 'not', 'like', 'to', 'offend', 'their', 'young', 'master', 'by', 'taking', 'my', 'part', 'against', 'him,', 'and', 'Mrs.', 'Reed', 'was', 'blind', 'and', 'deaf', 'on', 'the', 'subject:', 'she', 'never', 'saw', 'him', 'strike', 'or', 'heard', 'him', 'abuse', 'me,', 'though', 'he', 'did', 'both', 'now', 'and', 'then', 'in', 'her', 'very', 'presence,', 'more', 'frequently,', 'however,', 'behind', 'her', 'back.', 'Habitually', 'obedient', 'to', 'John,', 'I', 'came', 'up', 'to', 'his', 'chair:', 'he', 'spent', 'some', 'three', 'minutes', 'in', 'thrusting', 'out', 'his', 'tongue', 'at', 'me', 'as', 'far', 'as', 'he', 'could', 'without', 'damaging', 'the', 'roots:', 'I', 'knew', 'he', 'would', 'soon', 'strike,', 'and', 'while', 'dreading', 'the', 'blow,', 'I', 'mused', 'on', 'the', 'disgusting', 'and', 'ugly', 'appearance', 'of', 'him', 'who', 'would', 'presently', 'deal', 'it.'], ['I', 'wonder', 'if', 'he', 'read', 'that', 'notion', 'in', 'my', 'face;', 'for,', 'all', 'at', 'once,', 'without', 'speaking,', 'he', 'struck', 'suddenly', 'and', 'strongly.'], ['I', 'tottered,', 'and', 'on', 'regaining', 'my', 'equilibrium', 'retired', 'back', 'a', 'step', 'or', 'two', 'from', 'his', 'chair.'], ['That', 'is', 'for', 'your', 'impudence', 'in', 'answering', 'mama', 'awhile', 'since,', 'said', 'he,', 'and', 'for', 'your', 'sneaking', 'way', 'of', 'getting', 'behind', 'curtains,', 'and', 'for', 'the', 'look', 'you', 'had', 'in', 'your', 'eyes', 'two', 'minutes', 'since,', 'you', 'rat!'], ['Accustomed', 'to', 'John', \"Reed's\", 'abuse,', 'I', 'never', 'had', 'an', 'idea', 'of', 'replying', 'to', 'it;', 'my', 'care', 'was', 'how', 'to', 'endure', 'the', 'blow', 'which', 'would', 'certainly', 'follow', 'the', 'insult.'], ['What', 'were', 'you', 'doing', 'behind', 'the', 'curtain?'], ['he', 'asked.'], ['I', 'was', 'reading.', 'Show', 'the', 'book.'], ['I', 'returned', 'to', 'the', 'window', 'and', 'fetched', 'it', 'thence.'], ['You', 'have', 'no', 'business', 'to', 'take', 'our', 'books;', 'you', 'are', 'a', 'dependent,', 'mama', 'says;', 'you', 'have', 'no', 'money;', 'your', 'father', 'left', 'you', 'none;', 'you', 'ought', 'to', 'beg,', 'and', 'not', 'to', 'live', 'here', 'with', \"gentlemen's\", 'children', 'like', 'us,', 'and', 'eat', 'the', 'same', 'meals', 'we', 'do,', 'and', 'wear', 'clothes', 'at', 'our', \"mama's\", 'expense.'], ['Now,', \"I'll\", 'teach', 'you', 'to', 'rummage', 'my', 'bookshelves:', 'for', 'they', 'are', 'mine;', 'all', 'the', 'house', 'belongs', 'to', 'me,', 'or', 'will', 'do', 'in', 'a', 'few', 'years.'], ['Go', 'and', 'stand', 'by', 'the', 'door,', 'out', 'of', 'the', 'way', 'of', 'the', 'mirror', 'and', 'the', 'windows.', 'I', 'did', 'so,', 'not', 'at', 'first', 'aware', 'what', 'was', 'his', 'intention;', 'but', 'when', 'I', 'saw', 'him', 'lift', 'and', 'poise', 'the', 'book', 'and', 'stand', 'in', 'act', 'to', 'hurl', 'it,', 'I', 'instinctively', 'started', 'aside', 'with', 'a', 'cry', 'of', 'alarm:', 'not', 'soon', 'enough,', 'however;', 'the', 'volume', 'was', 'flung,', 'it', 'hit', 'me,', 'and', 'I', 'fell,', 'striking', 'my', 'head', 'against', 'the', 'door', 'and', 'cutting', 'it.'], ['The', 'cut', 'bled,', 'the', 'pain', 'was', 'sharp:', 'my', 'terror', 'had', 'passed', 'its', 'climax;', 'other', 'feelings', 'succeeded.', 'Wicked', 'and', 'cruel', 'boy!', 'I', 'said.'], ['You', 'are', 'like', 'a', 'murderer--you', 'are', 'like', 'a', 'slave-driver--you', 'are', 'like', 'the', 'Roman', 'emperors!'], ['I', 'had', 'read', \"Goldsmith's\", 'History', 'of', 'Rome,', 'and', 'had', 'formed', 'my', 'opinion', 'of', 'Nero,', 'Caligula,', 'etc.'], ['Also', 'I', 'had', 'drawn', 'parallels', 'in', 'silence,', 'which', 'I', 'never', 'thought', 'thus', 'to', 'have', 'declared', 'aloud.'], ['What!', 'what!', 'he', 'cried.'], ['Did', 'she', 'say', 'that', 'to', 'me?', 'Did', 'you', 'hear', 'her,', 'Eliza', 'and', 'Georgiana?'], [\"Won't\", 'I', 'tell', 'mama?'], ['but', 'first', 'He', 'ran', 'headlong', 'at', 'me:', 'I', 'felt', 'him', 'grasp', 'my', 'hair', 'and', 'my', 'shoulder:', 'he', 'had', 'closed', 'with', 'a', 'desperate', 'thing.', 'I', 'really', 'saw', 'in', 'him', 'a', 'tyrant,', 'a', 'murderer.'], ['I', 'felt', 'a', 'drop', 'or', 'two', 'of', 'blood', 'from', 'my', 'head', 'trickle', 'down', 'my', 'neck,', 'and', 'was', 'sensible', 'of', 'somewhat', 'pungent', 'suffering:', 'these', 'sensations', 'for', 'the', 'time', 'predominated', 'over', 'fear,', 'and', 'I', 'received', 'him', 'in', 'frantic', 'sort.'], ['I', \"don't\", 'very', 'well', 'know', 'what', 'I', 'did', 'with', 'my', 'hands,', 'but', 'he', 'called', 'me', 'Rat!', 'Rat!', 'and', 'bellowed', 'out', 'aloud.'], ['Aid', 'was', 'near', 'him:', 'Eliza', 'and', 'Georgiana', 'had', 'run', 'for', 'Mrs.', 'Reed,', 'who', 'was', 'gone', 'upstairs:', 'she', 'now', 'came', 'upon', 'the', 'scene,', 'followed', 'by', 'Bessie', 'and', 'her', 'maid', 'Abbot.'], ['We', 'were', 'parted:', 'I', 'heard', 'the', 'words', 'Dear!'], ['dear!'], ['What', 'a', 'fury', 'to', 'fly', 'at', 'Master', 'John!'], ['Did', 'ever', 'anybody', 'see', 'such', 'a', 'picture', 'of', 'passion!'], ['Then', 'Mrs.', 'Reed', 'subjoined', 'Take', 'her', 'away', 'to', 'the', 'red-room,', 'and', 'lock', 'her', 'in', 'there.'], ['Four', 'hands', 'were', 'immediately', 'laid', 'upon', 'me,', 'and', 'I', 'was', 'borne', 'upstairs.'], ['CHAPTER', 'II', 'I', 'resisted', 'all', 'the', 'way:', 'a', 'new', 'thing', 'for', 'me,', 'and', 'a', 'circumstance', 'which', 'greatly', 'strengthened', 'the', 'bad', 'opinion', 'Bessie', 'and', 'Miss', 'Abbot', 'were', 'disposed', 'to', 'entertain', 'of', 'me.'], ['The', 'fact', 'is,', 'I', 'was', 'a', 'trifle', 'beside', 'myself;', 'or', 'rather', 'out', 'of', 'myself,', 'as', 'the', 'French', 'would', 'say:', 'I', 'was', 'conscious', 'that', 'a', \"moment's\", 'mutiny', 'had', 'already', 'rendered', 'me', 'liable', 'to', 'strange', 'penalties,', 'and,', 'like', 'any', 'other', 'rebel', 'slave,', 'I', 'felt', 'resolved,', 'in', 'my', 'desperation,', 'to', 'go', 'all', 'lengths.'], ['Hold', 'her', 'arms,', 'Miss', 'Abbot:', \"she's\", 'like', 'a', 'mad', 'cat.'], ['For', 'shame!', 'for', 'shame!'], ['cried', 'the', \"lady's-maid.\"], ['What', 'shocking', 'conduct,', 'Miss', 'Eyre,', 'to', 'strike', 'a', 'young', 'gentleman,', 'your', \"benefactress's\", 'son!'], ['Your', 'young', 'master.'], ['Master!'], ['How', 'is', 'he', 'my', 'master?'], ['Am', 'I', 'a', 'servant?'], ['No;', 'you', 'are', 'less', 'than', 'a', 'servant,', 'for', 'you', 'do', 'nothing', 'for', 'your', 'keep.'], ['There,', 'sit', 'down,', 'and', 'think', 'over', 'your', 'wickedness.'], ['They', 'had', 'got', 'me', 'by', 'this', 'time', 'into', 'the', 'apartment', 'indicated', 'by', 'Mrs.', 'Reed,', 'and', 'had', 'thrust', 'me', 'upon', 'a', 'stool:', 'my', 'impulse', 'was', 'to', 'rise', 'from', 'it', 'like', 'a', 'spring;', 'their', 'two', 'pair', 'of', 'hands', 'arrested', 'me', 'instantly.'], ['If', 'you', \"don't\", 'sit', 'still,', 'you', 'must', 'be', 'tied', 'down,', 'said', 'Bessie.'], ['Miss', 'Abbot,', 'lend', 'me', 'your', 'garters;', 'she', 'would', 'break', 'mine', 'directly.'], ['Miss', 'Abbot', 'turned', 'to', 'divest', 'a', 'stout', 'leg', 'of', 'the', 'necessary', 'ligature.', 'This', 'preparation', 'for', 'bonds,', 'and', 'the', 'additional', 'ignominy', 'it', 'inferred,', 'took', 'a', 'little', 'of', 'the', 'excitement', 'out', 'of', 'me.'], [\"Don't\", 'take', 'them', 'off,', 'I', 'cried;', 'I', 'will', 'not', 'stir.'], ['In', 'guarantee', 'whereof,', 'I', 'attached', 'myself', 'to', 'my', 'seat', 'by', 'my', 'hands.'], ['Mind', 'you', \"don't,\", 'said', 'Bessie;', 'and', 'when', 'she', 'had', 'ascertained', 'that', 'I', 'was', 'really', 'subsiding,', 'she', 'loosened', 'her', 'hold', 'of', 'me;', 'then', 'she', 'and', 'Miss', 'Abbot', 'stood', 'with', 'folded', 'arms,', 'looking', 'darkly', 'and', 'doubtfully', 'on', 'my', 'face,', 'as', 'incredulous', 'of', 'my', 'sanity.'], ['She', 'never', 'did', 'so', 'before,', 'at', 'last', 'said', 'Bessie,', 'turning', 'to', 'the', 'Abigail.', 'But', 'it', 'was', 'always', 'in', 'her,', 'was', 'the', 'reply.', \"I've\", 'told', 'Missis', 'often', 'my', 'opinion', 'about', 'the', 'child,', 'and', 'Missis', 'agreed', 'with', 'me.', \"She's\", 'an', 'underhand', 'little', 'thing:', 'I', 'never', 'saw', 'a', 'girl', 'of', 'her', 'age', 'with', 'so', 'much', 'cover.'], ['Bessie', 'answered', 'not;', 'but', 'ere', 'long,', 'addressing', 'me,', 'she', 'said--You', 'ought', 'to', 'be', 'aware,', 'Miss,', 'that', 'you', 'are', 'under', 'obligations', 'to', 'Mrs.', 'Reed:', 'she', 'keeps', 'you:', 'if', 'she', 'were', 'to', 'turn', 'you', 'off,', 'you', 'would', 'have', 'to', 'go', 'to', 'the', 'poorhouse.'], ['I', 'had', 'nothing', 'to', 'say', 'to', 'these', 'words:', 'they', 'were', 'not', 'new', 'to', 'me:', 'my', 'very', 'first', 'recollections', 'of', 'existence', 'included', 'hints', 'of', 'the', 'same', 'kind.'], ['This', 'reproach', 'of', 'my', 'dependence', 'had', 'become', 'a', 'vague', 'sing-song', 'in', 'my', 'ear:', 'very', 'painful', 'and', 'crushing,', 'but', 'only', 'half', 'intelligible.'], ['Miss', 'Abbot', 'joined', 'in', 'And', 'you', 'ought', 'not', 'to', 'think', 'yourself', 'on', 'an', 'equality', 'with', 'the', 'Misses', 'Reed', 'and', 'Master', 'Reed,', 'because', 'Missis', 'kindly', 'allows', 'you', 'to', 'be', 'brought', 'up', 'with', 'them.'], ['They', 'will', 'have', 'a', 'great', 'deal', 'of', 'money,', 'and', 'you', 'will', 'have', 'none:', 'it', 'is', 'your', 'place', 'to', 'be', 'humble,', 'and', 'to', 'try', 'to', 'make', 'yourself', 'agreeable', 'to', 'them.'], ['What', 'we', 'tell', 'you', 'is', 'for', 'your', 'good,', 'added', 'Bessie,', 'in', 'no', 'harsh', 'voice,', 'you', 'should', 'try', 'to', 'be', 'useful', 'and', 'pleasant,', 'then,', 'perhaps,', 'you', 'would', 'have', 'a', 'home', 'here;', 'but', 'if', 'you', 'become', 'passionate', 'and', 'rude,', 'Missis', 'will', 'send', 'you', 'away,', 'I', 'am', 'sure.'], ['Besides,', 'said', 'Miss', 'Abbot,', 'God', 'will', 'punish', 'her:', 'He', 'might', 'strike', 'her', 'dead', 'in', 'the', 'midst', 'of', 'her', 'tantrums,', 'and', 'then', 'where', 'would', 'she', 'go?'], ['Come,', 'Bessie,', 'we', 'will', 'leave', 'her:', 'I', \"wouldn't\", 'have', 'her', 'heart', 'for', 'anything.'], ['Say', 'your', 'prayers,', 'Miss', 'Eyre,', 'when', 'you', 'are', 'by', 'yourself;', 'for', 'if', 'you', \"don't\", 'repent,', 'something', 'bad', 'might', 'be', 'permitted', 'to', 'come', 'down', 'the', 'chimney', 'and', 'fetch', 'you', 'away.'], ['They', 'went,', 'shutting', 'the', 'door,', 'and', 'locking', 'it', 'behind', 'them.'], ['The', 'red-room', 'was', 'a', 'square', 'chamber,', 'very', 'seldom', 'slept', 'in,', 'I', 'might', 'say', 'never,', 'indeed,', 'unless', 'when', 'a', 'chance', 'influx', 'of', 'visitors', 'at', 'Gateshead', 'Hall', 'rendered', 'it', 'necessary', 'to', 'turn', 'to', 'account', 'all', 'the', 'accommodation', 'it', 'contained:', 'yet', 'it', 'was', 'one', 'of', 'the', 'largest', 'and', 'stateliest', 'chambers', 'in', 'the', 'mansion.'], ['A', 'bed', 'supported', 'on', 'massive', 'pillars', 'of', 'mahogany,', 'hung', 'with', 'curtains', 'of', 'deep', 'red', 'damask,', 'stood', 'out', 'like', 'a', 'tabernacle', 'in', 'the', 'centre;', 'the', 'two', 'large', 'windows,', 'with', 'their', 'blinds', 'always', 'drawn', 'down,', 'were', 'half', 'shrouded', 'in', 'festoons', 'and', 'falls', 'of', 'similar', 'drapery;', 'the', 'carpet', 'was', 'red;', 'the', 'table', 'at', 'the', 'foot', 'of', 'the', 'bed', 'was', 'covered', 'with', 'a', 'crimson', 'cloth;', 'the', 'walls', 'were', 'a', 'soft', 'fawn', 'colour', 'with', 'a', 'blush', 'of', 'pink', 'in', 'it;', 'the', 'wardrobe,', 'the', 'toilet-table,', 'the', 'chairs', 'were', 'of', 'darkly', 'polished', 'old', 'mahogany.'], ['Out', 'of', 'these', 'deep', 'surrounding', 'shades', 'rose', 'high,', 'and', 'glared', 'white,', 'the', 'piled', 'up', 'mattresses', 'and', 'pillows', 'of', 'the', 'bed,', 'spread', 'with', 'a', 'snowy', 'Marseilles', 'counterpane.'], ['Scarcely', 'less', 'prominent', 'was', 'an', 'ample', 'cushioned', 'easy-chair', 'near', 'the', 'head', 'of', 'the', 'bed,', 'also', 'white,', 'with', 'a', 'footstool', 'before', 'it;', 'and', 'looking,', 'as', 'I', 'thought,', 'like', 'a', 'pale', 'throne.'], ['This', 'room', 'was', 'chill,', 'because', 'it', 'seldom', 'had', 'a', 'fire;', 'it', 'was', 'silent,', 'because', 'remote', 'from', 'the', 'nursery', 'and', 'kitchen;', 'solemn,', 'because', 'it', 'was', 'known', 'to', 'be', 'so', 'seldom', 'entered.'], ['The', 'house-maid', 'alone', 'came', 'here', 'on', 'Saturdays,', 'to', 'wipe', 'from', 'the', 'mirrors', 'and', 'the', 'furniture', 'a', \"week's\", 'quiet', 'dust:', 'and', 'Mrs.', 'Reed', 'herself,', 'at', 'far', 'intervals,', 'visited', 'it', 'to', 'review', 'the', 'contents', 'of', 'a', 'certain', 'secret', 'drawer', 'in', 'the', 'wardrobe,', 'where', 'were', 'stored', 'divers', 'parchments,', 'her', 'jewel-casket,', 'and', 'a', 'miniature', 'of', 'her', 'deceased', 'husband;', 'and', 'in', 'those', 'last', 'words', 'lies', 'the', 'secret', 'of', 'the', 'red-room--the', 'spell', 'which', 'kept', 'it', 'so', 'lonely', 'in', 'spite', 'of', 'its', 'grandeur.', 'Mr.', 'Reed', 'had', 'been', 'dead', 'nine', 'years:', 'it', 'was', 'in', 'this', 'chamber', 'he', 'breathed', 'his', 'last;', 'here', 'he', 'lay', 'in', 'state;', 'hence', 'his', 'coffin', 'was', 'borne', 'by', 'the', \"undertaker's\", 'men;', 'and,', 'since', 'that', 'day,', 'a', 'sense', 'of', 'dreary', 'consecration', 'had', 'guarded', 'it', 'from', 'frequent', 'intrusion.', 'My', 'seat,', 'to', 'which', 'Bessie', 'and', 'the', 'bitter', 'Miss', 'Abbot', 'had', 'left', 'me', 'riveted,', 'was', 'a', 'low', 'ottoman', 'near', 'the', 'marble', 'chimney-piece;', 'the', 'bed', 'rose', 'before', 'me;', 'to', 'my', 'right', 'hand', 'there', 'was', 'the', 'high,', 'dark', 'wardrobe,', 'with', 'subdued,', 'broken', 'reflections', 'varying', 'the', 'gloss', 'of', 'its', 'panels;', 'to', 'my', 'left', 'were', 'the', 'muffled', 'windows;', 'a', 'great', 'looking-glass', 'between', 'them', 'repeated', 'the', 'vacant', 'majesty', 'of', 'the', 'bed', 'and', 'room.'], ['I', 'was', 'not', 'quite', 'sure', 'whether', 'they', 'had', 'locked', 'the', 'door;', 'and', 'when', 'I', 'dared', 'move,', 'I', 'got', 'up', 'and', 'went', 'to', 'see.', 'Alas!'], ['yes:', 'no', 'jail', 'was', 'ever', 'more', 'secure.'], ['Returning,', 'I', 'had', 'to', 'cross', 'before', 'the', 'looking', 'glass;', 'my', 'fascinated', 'glance', 'involuntarily', 'explored', 'the', 'depth', 'it', 'revealed.']]\n"
     ]
    }
   ],
   "source": [
    "print(english_sentences[:100])"
   ]
  },
  {
   "cell_type": "code",
   "execution_count": null,
   "id": "e16814f8",
   "metadata": {},
   "outputs": [],
   "source": [
    "def get_context(sentence, word_index, context_size=4):\n",
    "    sentence_len = len(sentence)\n",
    "    \n",
    "    # Calculate start and end indices for context\n",
    "    start_idx = max(0, word_index - context_size)\n",
    "    end_idx = min(sentence_len, word_index + context_size + 1)\n",
    "    \n",
    "    # Get the context words\n",
    "    context_words = sentence[start_idx:end_idx]\n",
    "    \n",
    "    return context_words"
   ]
  },
  {
   "cell_type": "code",
   "execution_count": 14,
   "id": "5b213afb",
   "metadata": {},
   "outputs": [],
   "source": [
    "def process_alignments(alignment_file, english_file, french_file, output_file):\n",
    "    \"\"\"Process alignment file and extract context for each alignment.\"\"\"\n",
    "    # Load sentences\n",
    "    english_sentences = load_sentences(english_file)\n",
    "    french_sentences = load_sentences(french_file)\n",
    "    \n",
    "    # Read alignment file\n",
    "    with open(alignment_file, 'r') as f:\n",
    "        alignment_lines = f.readlines()\n",
    "    \n",
    "    # Group alignments by sentence\n",
    "    sentence_alignments = defaultdict(list)\n",
    "    for line in alignment_lines:\n",
    "        parts = line.strip().split()\n",
    "        if len(parts) >= 4:\n",
    "            sent_id = int(parts[0]) - 1  # Convert to 0-based indexing\n",
    "            english_pos = int(parts[1]) - 1  # Convert to 0-based indexing\n",
    "            french_pos = int(parts[2]) - 1   # Convert to 0-based indexing\n",
    "            sentence_alignments[sent_id].append((english_pos, french_pos))\n",
    "    \n",
    "    # Process each sentence\n",
    "    results = []\n",
    "    for sent_id in sorted(sentence_alignments.keys()):\n",
    "        if sent_id >= len(english_sentences) or sent_id >= len(french_sentences):\n",
    "            continue\n",
    "            \n",
    "        english_sent = english_sentences[sent_id]\n",
    "        french_sent = french_sentences[sent_id]\n",
    "        \n",
    "        for english_pos, french_pos in sentence_alignments[sent_id]:\n",
    "            # Skip if positions are out of bounds\n",
    "            if (english_pos >= len(english_sent) or french_pos >= len(french_sent)):\n",
    "                continue\n",
    "                \n",
    "            # Get context for both words\n",
    "            english_context = get_context(english_sent, english_pos)\n",
    "            french_context = get_context(french_sent, french_pos)\n",
    "            \n",
    "            # Create result record\n",
    "            result = {\n",
    "                'sentence_id': sent_id + 1,  # Convert back to 1-based for display\n",
    "                'english_word': english_sent[english_pos],\n",
    "                'french_word': french_sent[french_pos],\n",
    "                'english_position': english_pos,\n",
    "                'french_position': french_pos,\n",
    "                'english_context': ' '.join(english_context),\n",
    "                'french_context': ' '.join(french_context),\n",
    "                'full_english_sentence': ' '.join(english_sent),\n",
    "                'full_french_sentence': ' '.join(french_sent)\n",
    "            }\n",
    "            \n",
    "            results.append(result)\n",
    "    \n",
    "    # Save results\n",
    "    with open(output_file, 'w', encoding='utf-8') as f:\n",
    "        json.dump(results, f, indent=2, ensure_ascii=False)\n",
    "    \n",
    "    return results\n"
   ]
  },
  {
   "cell_type": "code",
   "execution_count": 17,
   "id": "9c551a44",
   "metadata": {},
   "outputs": [],
   "source": [
    "alignment_file = os.path.join(model_dir, best_prediction)\n",
    "output_file = \"context_output_best_model.json\"\n",
    "results = process_alignments(alignment_file, english_file, french_file, output_file)"
   ]
  }
 ],
 "metadata": {
  "kernelspec": {
   "display_name": "jane-eyre",
   "language": "python",
   "name": "python3"
  },
  "language_info": {
   "codemirror_mode": {
    "name": "ipython",
    "version": 3
   },
   "file_extension": ".py",
   "mimetype": "text/x-python",
   "name": "python",
   "nbconvert_exporter": "python",
   "pygments_lexer": "ipython3",
   "version": "3.13.5"
  }
 },
 "nbformat": 4,
 "nbformat_minor": 5
}
